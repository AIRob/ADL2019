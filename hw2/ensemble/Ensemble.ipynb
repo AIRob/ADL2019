{
 "cells": [
  {
   "cell_type": "code",
   "execution_count": 1,
   "metadata": {},
   "outputs": [],
   "source": [
    "import os\n",
    "import numpy as np\n",
    "import pandas as pd\n",
    "from glob import glob"
   ]
  },
  {
   "cell_type": "code",
   "execution_count": 2,
   "metadata": {},
   "outputs": [
    {
     "name": "stdout",
     "output_type": "stream",
     "text": [
      "['./csv\\\\0.49864_bcn_bert\\\\epoch-16.csv', './csv\\\\0.49864_bcn_bert\\\\epoch-2.csv', './csv\\\\0.49864_bcn_bert\\\\epoch-3.csv', './csv\\\\0.49864_bcn_bert\\\\epoch-5.csv', './csv\\\\0.49864_bcn_bert\\\\epoch-7.csv', './csv\\\\0.50407_bcn_elmo\\\\epoch-12.csv', './csv\\\\0.50407_bcn_elmo\\\\epoch-14.csv', './csv\\\\0.50407_bcn_elmo\\\\epoch-16.csv', './csv\\\\0.50407_bcn_elmo\\\\epoch-3.csv', './csv\\\\0.50407_bcn_elmo\\\\epoch-5.csv', './csv\\\\0.53031_bcn_bert_elmo\\\\epoch-1.csv', './csv\\\\0.53031_bcn_bert_elmo\\\\epoch-4.csv', './csv\\\\0.53031_bcn_bert_elmo\\\\epoch-5.csv', './csv\\\\0.53031_bcn_bert_elmo\\\\epoch-6.csv', './csv\\\\0.53031_bcn_bert_elmo\\\\epoch-9.csv']\n",
      "15\n"
     ]
    }
   ],
   "source": [
    "fnames = glob('./csv/*/*.csv')\n",
    "print(fnames)\n",
    "print(len(fnames))"
   ]
  },
  {
   "cell_type": "code",
   "execution_count": 3,
   "metadata": {},
   "outputs": [],
   "source": [
    "# THRESHOLD = 0.75\n",
    "# del_fnames = []\n",
    "# for fname in fnames:\n",
    "#     recall = float(fname.replace('./csv\\\\', '').split('_')[0])\n",
    "#     if (recall < THRESHOLD):\n",
    "#         del_fnames.append(fname)\n",
    "# fnames = [x for x in fnames if x not in del_fnames]\n",
    "# print(fnames)\n",
    "# print(len(fnames))"
   ]
  },
  {
   "cell_type": "code",
   "execution_count": 4,
   "metadata": {},
   "outputs": [],
   "source": [
    "NUM_OPTIONS = 5"
   ]
  },
  {
   "cell_type": "code",
   "execution_count": 5,
   "metadata": {},
   "outputs": [],
   "source": [
    "# Cache all predictions to numpy array.\n",
    "num_files = len(fnames)\n",
    "num_rows = pd.read_csv(fnames[0])['Id'].values.shape[0]\n",
    "preds = np.zeros((num_files, num_rows, NUM_OPTIONS)).astype(np.uint8)\n",
    "for f, fname in enumerate(fnames):\n",
    "    Predict = pd.read_csv(fname)['label'].values.astype(int)\n",
    "    for r, label in enumerate(Predict):\n",
    "        preds[f, r, label - 1] = 1"
   ]
  },
  {
   "cell_type": "code",
   "execution_count": 6,
   "metadata": {},
   "outputs": [
    {
     "name": "stdout",
     "output_type": "stream",
     "text": [
      "(2210, 5)\n"
     ]
    }
   ],
   "source": [
    "sum_preds = np.sum(preds, axis=0)\n",
    "print (sum_preds.shape)"
   ]
  },
  {
   "cell_type": "code",
   "execution_count": 7,
   "metadata": {},
   "outputs": [],
   "source": [
    "best_ids = np.argmax(sum_preds, axis=-1) + 1"
   ]
  },
  {
   "cell_type": "code",
   "execution_count": 8,
   "metadata": {},
   "outputs": [],
   "source": [
    "# Create submit\n",
    "submit = pd.read_csv(fnames[0])\n",
    "\n",
    "ensembled_labels = []\n",
    "for r, name in enumerate(submit['Id']):\n",
    "    ensembled_labels.append(best_ids[r])\n",
    "submit['label'] = ensembled_labels\n",
    "submit.to_csv('Ensemble_{}.csv'.format(len(fnames)), index=False)"
   ]
  }
 ],
 "metadata": {
  "kernelspec": {
   "display_name": "Python 3",
   "language": "python",
   "name": "python3"
  },
  "language_info": {
   "codemirror_mode": {
    "name": "ipython",
    "version": 3
   },
   "file_extension": ".py",
   "mimetype": "text/x-python",
   "name": "python",
   "nbconvert_exporter": "python",
   "pygments_lexer": "ipython3",
   "version": "3.7.1"
  }
 },
 "nbformat": 4,
 "nbformat_minor": 2
}
