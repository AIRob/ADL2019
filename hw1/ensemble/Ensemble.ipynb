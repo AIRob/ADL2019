{
 "cells": [
  {
   "cell_type": "code",
   "execution_count": 1,
   "metadata": {},
   "outputs": [],
   "source": [
    "import os\n",
    "import numpy as np\n",
    "import pandas as pd\n",
    "from glob import glob"
   ]
  },
  {
   "cell_type": "code",
   "execution_count": 2,
   "metadata": {},
   "outputs": [
    {
     "name": "stdout",
     "output_type": "stream",
     "text": [
      "['./csv\\\\0.5202_bigru_max_focal.csv', './csv\\\\0.7162_bigru_latt_max_focal.csv', './csv\\\\0.7286_deep_bigru_batt_max_focal.csv', './csv\\\\0.7354_fat_bigru_batt_max_focal.csv', './csv\\\\0.7418_bigru_lnatt_max_focal.csv', './csv\\\\0.7426_bilstm_batt_mean_focal.csv', './csv\\\\0.7458_bigru_batt_drop_max_focal.csv', './csv\\\\0.7458_bigru_bnatt_max_focal.csv', './csv\\\\0.7466_bigru_batt_5_max_focal.csv', './csv\\\\0.7474_bigru_batt_mean_focal.csv', './csv\\\\0.7490_bilstm_batt_5_max_focal.csv', './csv\\\\0.7512_bigru_batt_max_bce.csv', './csv\\\\0.7516_thin_bigru_batt_max_focal.csv', './csv\\\\0.7522_bilstm_batt_max_focal.csv', './csv\\\\0.7524_bigru_batt_max_focal.csv', './csv\\\\0.7554_bilstm_batt_max_bce.csv']\n",
      "16\n"
     ]
    }
   ],
   "source": [
    "fnames = glob('./csv/*.csv')\n",
    "print(fnames)\n",
    "print(len(fnames))"
   ]
  },
  {
   "cell_type": "code",
   "execution_count": 3,
   "metadata": {},
   "outputs": [
    {
     "name": "stdout",
     "output_type": "stream",
     "text": [
      "['./csv\\\\0.7512_bigru_batt_max_bce.csv', './csv\\\\0.7516_thin_bigru_batt_max_focal.csv', './csv\\\\0.7522_bilstm_batt_max_focal.csv', './csv\\\\0.7524_bigru_batt_max_focal.csv', './csv\\\\0.7554_bilstm_batt_max_bce.csv']\n",
      "5\n"
     ]
    }
   ],
   "source": [
    "THRESHOLD = 0.75\n",
    "del_fnames = []\n",
    "for fname in fnames:\n",
    "    recall = float(fname.replace('./csv\\\\', '').split('_')[0])\n",
    "    if (recall < THRESHOLD):\n",
    "        del_fnames.append(fname)\n",
    "fnames = [x for x in fnames if x not in del_fnames]\n",
    "print(fnames)\n",
    "print(len(fnames))"
   ]
  },
  {
   "cell_type": "code",
   "execution_count": 4,
   "metadata": {},
   "outputs": [],
   "source": [
    "NUM_OPTIONS = 100\n",
    "TOP_AT = 10"
   ]
  },
  {
   "cell_type": "code",
   "execution_count": 5,
   "metadata": {},
   "outputs": [],
   "source": [
    "# Cache all predictions to numpy array.\n",
    "num_files = len(fnames)\n",
    "num_rows = pd.read_csv(fnames[0])['Id'].values.shape[0]\n",
    "preds = np.zeros((num_files, num_rows, NUM_OPTIONS)).astype(np.uint8)\n",
    "for f, fname in enumerate(fnames):\n",
    "    Predict = pd.read_csv(fname)['Predict'].values.astype(str)\n",
    "    for r, str_labels in enumerate(Predict):\n",
    "        labels = str_labels.split('-')[:NUM_OPTIONS]\n",
    "        for c, label in enumerate(labels):\n",
    "            if np.isnan(float(label)):\n",
    "                continue\n",
    "            preds[f, r, c] = int(label)"
   ]
  },
  {
   "cell_type": "code",
   "execution_count": 6,
   "metadata": {},
   "outputs": [
    {
     "name": "stdout",
     "output_type": "stream",
     "text": [
      "(1000, 100)\n"
     ]
    }
   ],
   "source": [
    "sum_preds = np.sum(preds, axis=0)\n",
    "print (sum_preds.shape)"
   ]
  },
  {
   "cell_type": "code",
   "execution_count": 7,
   "metadata": {},
   "outputs": [],
   "source": [
    "best_ids = np.argsort(sum_preds, axis=-1)"
   ]
  },
  {
   "cell_type": "code",
   "execution_count": 8,
   "metadata": {},
   "outputs": [],
   "source": [
    "# Create submit\n",
    "submit = pd.read_csv(fnames[0])\n",
    "\n",
    "ensembled_labels = []\n",
    "for r, name in enumerate(submit['Id']):\n",
    "    ensembled_label = np.zeros(NUM_OPTIONS).astype(np.uint8)\n",
    "    ensembled_label[best_ids[r, -TOP_AT:]] = 1\n",
    "    ensembled_labels.append(''.join(['1-' if x else '0-' for x in ensembled_label]))\n",
    "submit['Predict'] = ensembled_labels\n",
    "submit.to_csv('Ensemble_{}.csv'.format(THRESHOLD), index=False)"
   ]
  }
 ],
 "metadata": {
  "kernelspec": {
   "display_name": "Python 3",
   "language": "python",
   "name": "python3"
  },
  "language_info": {
   "codemirror_mode": {
    "name": "ipython",
    "version": 3
   },
   "file_extension": ".py",
   "mimetype": "text/x-python",
   "name": "python",
   "nbconvert_exporter": "python",
   "pygments_lexer": "ipython3",
   "version": "3.7.1"
  }
 },
 "nbformat": 4,
 "nbformat_minor": 2
}
